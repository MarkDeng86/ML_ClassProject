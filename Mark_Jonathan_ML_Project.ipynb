{
  "nbformat": 4,
  "nbformat_minor": 0,
  "metadata": {
    "colab": {
      "provenance": [],
      "include_colab_link": true
    },
    "kernelspec": {
      "name": "python3",
      "display_name": "Python 3"
    },
    "language_info": {
      "name": "python"
    }
  },
  "cells": [
    {
      "cell_type": "markdown",
      "metadata": {
        "id": "view-in-github",
        "colab_type": "text"
      },
      "source": [
        "<a href=\"https://colab.research.google.com/github/MarkDeng86/ML_ClassProject/blob/main/Mark_Jonathan_ML_Project.ipynb\" target=\"_parent\"><img src=\"https://colab.research.google.com/assets/colab-badge.svg\" alt=\"Open In Colab\"/></a>"
      ]
    },
    {
      "cell_type": "markdown",
      "source": [
        "Try 3 different models:\n",
        "Ridge Regression\n",
        "\n",
        "sklearn MLPRegressor (Neural Network, multi-layer perceptron)\n",
        "\n",
        "Adjust hyperparameters and add regularization/feature transformation for each\n",
        "\n",
        "Note: unsupervised analysis (describing features of data without model) is no longer required\n",
        "\n",
        "Will need a table to hold different accuracies/f1 for each adjust of hyperparameters/regularization etc. Keep track of these values!\n",
        "\n"
      ],
      "metadata": {
        "id": "uuo5GxqY9ks0"
      }
    },
    {
      "cell_type": "markdown",
      "source": [
        "# Data Description\n",
        "There are 1460 instances of training data and 1460 of test data. Total number of attributes equals 81, of which 36 is quantitative, 43 categorical + Id and SalePrice.\n",
        "\n",
        "Quantitative: 1stFlrSF, 2ndFlrSF, 3SsnPorch, BedroomAbvGr, BsmtFinSF1, BsmtFinSF2, BsmtFullBath, BsmtHalfBath, BsmtUnfSF, EnclosedPorch, Fireplaces, FullBath, GarageArea, GarageCars, GarageYrBlt, GrLivArea, HalfBath, KitchenAbvGr, LotArea, LotFrontage, LowQualFinSF, MSSubClass, MasVnrArea, MiscVal, MoSold, OpenPorchSF, OverallCond, OverallQual, PoolArea, ScreenPorch, TotRmsAbvGrd, TotalBsmtSF, WoodDeckSF, YearBuilt, YearRemodAdd, YrSold\n",
        "\n",
        "Qualitative: Alley, BldgType, BsmtCond, BsmtExposure, BsmtFinType1, BsmtFinType2, BsmtQual, CentralAir, Condition1, Condition2, Electrical, ExterCond, ExterQual, Exterior1st, Exterior2nd, Fence, FireplaceQu, Foundation, Functional, GarageCond, GarageFinish, GarageQual, GarageType, Heating, HeatingQC, HouseStyle, KitchenQual, LandContour, LandSlope, LotConfig, LotShape, MSZoning, MasVnrType, MiscFeature, Neighborhood, PavedDrive, PoolQC, RoofMatl, RoofStyle, SaleCondition, SaleType, Street, Utilities,"
      ],
      "metadata": {
        "id": "fV8vQKKgrMUx"
      }
    },
    {
      "cell_type": "code",
      "source": [
        "import numpy as np\n",
        "import pandas as pd\n",
        "import sklearn\n",
        "from sklearn.decomposition import PCA\n",
        "from sklearn.preprocessing import StandardScaler, PolynomialFeatures\n",
        "from sklearn.pipeline import Pipeline\n",
        "from sklearn.model_selection import train_test_split, cross_val_score\n",
        "from sklearn.metrics import precision_recall_fscore_support"
      ],
      "metadata": {
        "id": "463xlPDsDXQP"
      },
      "execution_count": null,
      "outputs": []
    },
    {
      "cell_type": "code",
      "source": [
        "#sklearn Encoders\n",
        "from sklearn.preprocessing import OrdinalEncoder\n",
        "from sklearn.preprocessing import OneHotEncoder"
      ],
      "metadata": {
        "id": "3snwsrjnFYGF"
      },
      "execution_count": null,
      "outputs": []
    },
    {
      "cell_type": "code",
      "source": [
        "# Using data set provided from Kaggle\n",
        "train = pd.read_csv('/content/train.csv')\n",
        "train.head()"
      ],
      "metadata": {
        "id": "aIwxzK1oDU_O",
        "colab": {
          "base_uri": "https://localhost:8080/",
          "height": 235
        },
        "outputId": "f8b929d4-304c-4eee-e028-96bc22e2d6e3"
      },
      "execution_count": null,
      "outputs": [
        {
          "output_type": "execute_result",
          "data": {
            "text/plain": [
              "   Id  MSSubClass MSZoning  LotFrontage  LotArea Street Alley LotShape  \\\n",
              "0   1          60       RL         65.0     8450   Pave   NaN      Reg   \n",
              "1   2          20       RL         80.0     9600   Pave   NaN      Reg   \n",
              "2   3          60       RL         68.0    11250   Pave   NaN      IR1   \n",
              "3   4          70       RL         60.0     9550   Pave   NaN      IR1   \n",
              "4   5          60       RL         84.0    14260   Pave   NaN      IR1   \n",
              "\n",
              "  LandContour Utilities  ... PoolArea PoolQC Fence MiscFeature MiscVal MoSold  \\\n",
              "0         Lvl    AllPub  ...        0    NaN   NaN         NaN       0      2   \n",
              "1         Lvl    AllPub  ...        0    NaN   NaN         NaN       0      5   \n",
              "2         Lvl    AllPub  ...        0    NaN   NaN         NaN       0      9   \n",
              "3         Lvl    AllPub  ...        0    NaN   NaN         NaN       0      2   \n",
              "4         Lvl    AllPub  ...        0    NaN   NaN         NaN       0     12   \n",
              "\n",
              "  YrSold  SaleType  SaleCondition  SalePrice  \n",
              "0   2008        WD         Normal     208500  \n",
              "1   2007        WD         Normal     181500  \n",
              "2   2008        WD         Normal     223500  \n",
              "3   2006        WD        Abnorml     140000  \n",
              "4   2008        WD         Normal     250000  \n",
              "\n",
              "[5 rows x 81 columns]"
            ],
            "text/html": [
              "\n",
              "  <div id=\"df-efa90866-e496-4d14-907e-920413f89c71\">\n",
              "    <div class=\"colab-df-container\">\n",
              "      <div>\n",
              "<style scoped>\n",
              "    .dataframe tbody tr th:only-of-type {\n",
              "        vertical-align: middle;\n",
              "    }\n",
              "\n",
              "    .dataframe tbody tr th {\n",
              "        vertical-align: top;\n",
              "    }\n",
              "\n",
              "    .dataframe thead th {\n",
              "        text-align: right;\n",
              "    }\n",
              "</style>\n",
              "<table border=\"1\" class=\"dataframe\">\n",
              "  <thead>\n",
              "    <tr style=\"text-align: right;\">\n",
              "      <th></th>\n",
              "      <th>Id</th>\n",
              "      <th>MSSubClass</th>\n",
              "      <th>MSZoning</th>\n",
              "      <th>LotFrontage</th>\n",
              "      <th>LotArea</th>\n",
              "      <th>Street</th>\n",
              "      <th>Alley</th>\n",
              "      <th>LotShape</th>\n",
              "      <th>LandContour</th>\n",
              "      <th>Utilities</th>\n",
              "      <th>...</th>\n",
              "      <th>PoolArea</th>\n",
              "      <th>PoolQC</th>\n",
              "      <th>Fence</th>\n",
              "      <th>MiscFeature</th>\n",
              "      <th>MiscVal</th>\n",
              "      <th>MoSold</th>\n",
              "      <th>YrSold</th>\n",
              "      <th>SaleType</th>\n",
              "      <th>SaleCondition</th>\n",
              "      <th>SalePrice</th>\n",
              "    </tr>\n",
              "  </thead>\n",
              "  <tbody>\n",
              "    <tr>\n",
              "      <th>0</th>\n",
              "      <td>1</td>\n",
              "      <td>60</td>\n",
              "      <td>RL</td>\n",
              "      <td>65.0</td>\n",
              "      <td>8450</td>\n",
              "      <td>Pave</td>\n",
              "      <td>NaN</td>\n",
              "      <td>Reg</td>\n",
              "      <td>Lvl</td>\n",
              "      <td>AllPub</td>\n",
              "      <td>...</td>\n",
              "      <td>0</td>\n",
              "      <td>NaN</td>\n",
              "      <td>NaN</td>\n",
              "      <td>NaN</td>\n",
              "      <td>0</td>\n",
              "      <td>2</td>\n",
              "      <td>2008</td>\n",
              "      <td>WD</td>\n",
              "      <td>Normal</td>\n",
              "      <td>208500</td>\n",
              "    </tr>\n",
              "    <tr>\n",
              "      <th>1</th>\n",
              "      <td>2</td>\n",
              "      <td>20</td>\n",
              "      <td>RL</td>\n",
              "      <td>80.0</td>\n",
              "      <td>9600</td>\n",
              "      <td>Pave</td>\n",
              "      <td>NaN</td>\n",
              "      <td>Reg</td>\n",
              "      <td>Lvl</td>\n",
              "      <td>AllPub</td>\n",
              "      <td>...</td>\n",
              "      <td>0</td>\n",
              "      <td>NaN</td>\n",
              "      <td>NaN</td>\n",
              "      <td>NaN</td>\n",
              "      <td>0</td>\n",
              "      <td>5</td>\n",
              "      <td>2007</td>\n",
              "      <td>WD</td>\n",
              "      <td>Normal</td>\n",
              "      <td>181500</td>\n",
              "    </tr>\n",
              "    <tr>\n",
              "      <th>2</th>\n",
              "      <td>3</td>\n",
              "      <td>60</td>\n",
              "      <td>RL</td>\n",
              "      <td>68.0</td>\n",
              "      <td>11250</td>\n",
              "      <td>Pave</td>\n",
              "      <td>NaN</td>\n",
              "      <td>IR1</td>\n",
              "      <td>Lvl</td>\n",
              "      <td>AllPub</td>\n",
              "      <td>...</td>\n",
              "      <td>0</td>\n",
              "      <td>NaN</td>\n",
              "      <td>NaN</td>\n",
              "      <td>NaN</td>\n",
              "      <td>0</td>\n",
              "      <td>9</td>\n",
              "      <td>2008</td>\n",
              "      <td>WD</td>\n",
              "      <td>Normal</td>\n",
              "      <td>223500</td>\n",
              "    </tr>\n",
              "    <tr>\n",
              "      <th>3</th>\n",
              "      <td>4</td>\n",
              "      <td>70</td>\n",
              "      <td>RL</td>\n",
              "      <td>60.0</td>\n",
              "      <td>9550</td>\n",
              "      <td>Pave</td>\n",
              "      <td>NaN</td>\n",
              "      <td>IR1</td>\n",
              "      <td>Lvl</td>\n",
              "      <td>AllPub</td>\n",
              "      <td>...</td>\n",
              "      <td>0</td>\n",
              "      <td>NaN</td>\n",
              "      <td>NaN</td>\n",
              "      <td>NaN</td>\n",
              "      <td>0</td>\n",
              "      <td>2</td>\n",
              "      <td>2006</td>\n",
              "      <td>WD</td>\n",
              "      <td>Abnorml</td>\n",
              "      <td>140000</td>\n",
              "    </tr>\n",
              "    <tr>\n",
              "      <th>4</th>\n",
              "      <td>5</td>\n",
              "      <td>60</td>\n",
              "      <td>RL</td>\n",
              "      <td>84.0</td>\n",
              "      <td>14260</td>\n",
              "      <td>Pave</td>\n",
              "      <td>NaN</td>\n",
              "      <td>IR1</td>\n",
              "      <td>Lvl</td>\n",
              "      <td>AllPub</td>\n",
              "      <td>...</td>\n",
              "      <td>0</td>\n",
              "      <td>NaN</td>\n",
              "      <td>NaN</td>\n",
              "      <td>NaN</td>\n",
              "      <td>0</td>\n",
              "      <td>12</td>\n",
              "      <td>2008</td>\n",
              "      <td>WD</td>\n",
              "      <td>Normal</td>\n",
              "      <td>250000</td>\n",
              "    </tr>\n",
              "  </tbody>\n",
              "</table>\n",
              "<p>5 rows × 81 columns</p>\n",
              "</div>\n",
              "      <button class=\"colab-df-convert\" onclick=\"convertToInteractive('df-efa90866-e496-4d14-907e-920413f89c71')\"\n",
              "              title=\"Convert this dataframe to an interactive table.\"\n",
              "              style=\"display:none;\">\n",
              "        \n",
              "  <svg xmlns=\"http://www.w3.org/2000/svg\" height=\"24px\"viewBox=\"0 0 24 24\"\n",
              "       width=\"24px\">\n",
              "    <path d=\"M0 0h24v24H0V0z\" fill=\"none\"/>\n",
              "    <path d=\"M18.56 5.44l.94 2.06.94-2.06 2.06-.94-2.06-.94-.94-2.06-.94 2.06-2.06.94zm-11 1L8.5 8.5l.94-2.06 2.06-.94-2.06-.94L8.5 2.5l-.94 2.06-2.06.94zm10 10l.94 2.06.94-2.06 2.06-.94-2.06-.94-.94-2.06-.94 2.06-2.06.94z\"/><path d=\"M17.41 7.96l-1.37-1.37c-.4-.4-.92-.59-1.43-.59-.52 0-1.04.2-1.43.59L10.3 9.45l-7.72 7.72c-.78.78-.78 2.05 0 2.83L4 21.41c.39.39.9.59 1.41.59.51 0 1.02-.2 1.41-.59l7.78-7.78 2.81-2.81c.8-.78.8-2.07 0-2.86zM5.41 20L4 18.59l7.72-7.72 1.47 1.35L5.41 20z\"/>\n",
              "  </svg>\n",
              "      </button>\n",
              "      \n",
              "  <style>\n",
              "    .colab-df-container {\n",
              "      display:flex;\n",
              "      flex-wrap:wrap;\n",
              "      gap: 12px;\n",
              "    }\n",
              "\n",
              "    .colab-df-convert {\n",
              "      background-color: #E8F0FE;\n",
              "      border: none;\n",
              "      border-radius: 50%;\n",
              "      cursor: pointer;\n",
              "      display: none;\n",
              "      fill: #1967D2;\n",
              "      height: 32px;\n",
              "      padding: 0 0 0 0;\n",
              "      width: 32px;\n",
              "    }\n",
              "\n",
              "    .colab-df-convert:hover {\n",
              "      background-color: #E2EBFA;\n",
              "      box-shadow: 0px 1px 2px rgba(60, 64, 67, 0.3), 0px 1px 3px 1px rgba(60, 64, 67, 0.15);\n",
              "      fill: #174EA6;\n",
              "    }\n",
              "\n",
              "    [theme=dark] .colab-df-convert {\n",
              "      background-color: #3B4455;\n",
              "      fill: #D2E3FC;\n",
              "    }\n",
              "\n",
              "    [theme=dark] .colab-df-convert:hover {\n",
              "      background-color: #434B5C;\n",
              "      box-shadow: 0px 1px 3px 1px rgba(0, 0, 0, 0.15);\n",
              "      filter: drop-shadow(0px 1px 2px rgba(0, 0, 0, 0.3));\n",
              "      fill: #FFFFFF;\n",
              "    }\n",
              "  </style>\n",
              "\n",
              "      <script>\n",
              "        const buttonEl =\n",
              "          document.querySelector('#df-efa90866-e496-4d14-907e-920413f89c71 button.colab-df-convert');\n",
              "        buttonEl.style.display =\n",
              "          google.colab.kernel.accessAllowed ? 'block' : 'none';\n",
              "\n",
              "        async function convertToInteractive(key) {\n",
              "          const element = document.querySelector('#df-efa90866-e496-4d14-907e-920413f89c71');\n",
              "          const dataTable =\n",
              "            await google.colab.kernel.invokeFunction('convertToInteractive',\n",
              "                                                     [key], {});\n",
              "          if (!dataTable) return;\n",
              "\n",
              "          const docLinkHtml = 'Like what you see? Visit the ' +\n",
              "            '<a target=\"_blank\" href=https://colab.research.google.com/notebooks/data_table.ipynb>data table notebook</a>'\n",
              "            + ' to learn more about interactive tables.';\n",
              "          element.innerHTML = '';\n",
              "          dataTable['output_type'] = 'display_data';\n",
              "          await google.colab.output.renderOutput(dataTable, element);\n",
              "          const docLink = document.createElement('div');\n",
              "          docLink.innerHTML = docLinkHtml;\n",
              "          element.appendChild(docLink);\n",
              "        }\n",
              "      </script>\n",
              "    </div>\n",
              "  </div>\n",
              "  "
            ]
          },
          "metadata": {},
          "execution_count": 3
        }
      ]
    },
    {
      "cell_type": "code",
      "source": [
        "#plot drawing function\n",
        "import matplotlib.pyplot as plt\n",
        "\n",
        "def plot_data(train, val, reg_list, hyperparam, subplot=None):\n",
        "  if subplot:\n",
        "    subplot.plot(reg_list, train, label='Training')\n",
        "    subplot.plot(reg_list, val, label='Validation')\n",
        "    subplot.legend()\n",
        "  else:\n",
        "    plt.plot(reg_list, train, label='Training')\n",
        "    plt.plot(reg_list, val, label='Validation')\n",
        "    plt.xlabel(hyperparam)\n",
        "    plt.ylabel('Accuracy')\n",
        "    plt.xlim([reg_list[0], reg_list[-1]])\n",
        "    plt.legend()\n"
      ],
      "metadata": {
        "id": "jlzTTF8KUMEW"
      },
      "execution_count": null,
      "outputs": []
    },
    {
      "cell_type": "markdown",
      "source": [
        "#Preprocessing"
      ],
      "metadata": {
        "id": "ppYnJVh0WRrD"
      }
    },
    {
      "cell_type": "code",
      "source": [
        "print(\"Train shape: \", train.shape)"
      ],
      "metadata": {
        "id": "2lT20Hpj-K1G",
        "colab": {
          "base_uri": "https://localhost:8080/"
        },
        "outputId": "2ef3c8cb-59a5-4bab-fe50-0841e2c71653"
      },
      "execution_count": null,
      "outputs": [
        {
          "output_type": "stream",
          "name": "stdout",
          "text": [
            "Train shape:  (1460, 81)\n"
          ]
        }
      ]
    },
    {
      "cell_type": "code",
      "source": [
        "train_y = train['SalePrice']\n",
        "train_X = train.drop(['Id','SalePrice'],axis = 1)"
      ],
      "metadata": {
        "id": "RZN5N1vkBzj-"
      },
      "execution_count": null,
      "outputs": []
    },
    {
      "cell_type": "markdown",
      "source": [
        "Differentiate Categorical and Quantitative Features"
      ],
      "metadata": {
        "id": "Stcyx3LDEFjh"
      }
    },
    {
      "cell_type": "code",
      "source": [
        "cat_features_list = train_X.select_dtypes(include='object').columns.to_list()\n",
        "quant_features_list = train_X.select_dtypes(exclude='object').columns.to_list()"
      ],
      "metadata": {
        "id": "jZthlU9BD8dd"
      },
      "execution_count": null,
      "outputs": []
    },
    {
      "cell_type": "code",
      "source": [
        "print(train_X[quant_features_list].columns[train_X[quant_features_list].isna().any()].to_list())\n",
        "print(train_X[cat_features_list].columns[train_X[cat_features_list].isna().any()].to_list())"
      ],
      "metadata": {
        "id": "hrEZNYLD256E",
        "colab": {
          "base_uri": "https://localhost:8080/"
        },
        "outputId": "9ae553c1-8543-4d30-8459-66fd4c285b18"
      },
      "execution_count": null,
      "outputs": [
        {
          "output_type": "stream",
          "name": "stdout",
          "text": [
            "['LotFrontage', 'MasVnrArea', 'GarageYrBlt']\n",
            "['Alley', 'MasVnrType', 'BsmtQual', 'BsmtCond', 'BsmtExposure', 'BsmtFinType1', 'BsmtFinType2', 'Electrical', 'FireplaceQu', 'GarageType', 'GarageFinish', 'GarageQual', 'GarageCond', 'PoolQC', 'Fence', 'MiscFeature']\n"
          ]
        }
      ]
    },
    {
      "cell_type": "markdown",
      "source": [
        "Change missing values and replace with 0 or NONE"
      ],
      "metadata": {
        "id": "femVKleiO5lD"
      }
    },
    {
      "cell_type": "code",
      "source": [
        "# quant_nan_features = ['GarageYrBlt', 'GarageArea', 'GarageCars','LotFrontage','MasVnrArea']\n",
        "# cat_nan_features = ['GarageType', 'GarageFinish', 'GarageQual', 'GarageCond', 'BsmtQual', \n",
        "#                       'BsmtCond', 'BsmtExposure', 'BsmtFinType1', 'BsmtFinType2', 'PoolQC',\n",
        "#                    'MiscFeature', 'Alley', 'Fence', 'MasVnrType', 'FireplaceQu', 'Electrical', 'KitchenQual',\n",
        "#                    'SaleType', 'Functional', 'Exterior2nd', 'Exterior1st','MSZoning', 'Utilities']\n",
        "quant_nan_features = train_X[quant_features_list].columns[train_X[quant_features_list].isna().any()].to_list()\n",
        "cat_nan_features = train_X[cat_features_list].columns[train_X[cat_features_list].isna().any()].to_list()\n",
        "for i in quant_nan_features:\n",
        "    train_X[i].fillna(0, inplace=True)\n",
        "    \n",
        "for i in cat_nan_features:\n",
        "    train_X[i].fillna('None', inplace=True)"
      ],
      "metadata": {
        "id": "fBzGJJ7vO2-N"
      },
      "execution_count": null,
      "outputs": []
    },
    {
      "cell_type": "markdown",
      "source": [
        "Ordinal Encoding:\n",
        "LotShape\n",
        "Utilities\n",
        "LandSlope\n",
        "ExterQual\n",
        "ExterCond\n",
        "BsmntQual\n",
        "BsmtCond\n",
        "BsmtExposure\n",
        "BsmtFinType1\n",
        "BsmtFinType2\n",
        "HeatingQC\n",
        "KitchenQual\n",
        "Functional\n",
        "FireplaceQu\n",
        "GarageFinish\n",
        "GarageQual\n",
        "GarageCond\n",
        "PoolQC\n",
        "Fence\n"
      ],
      "metadata": {
        "id": "OxLayyqZOk5w"
      }
    },
    {
      "cell_type": "code",
      "source": [
        "ordinal_encode_list = ['LotShape','Utilities','LandSlope','ExterQual','ExterCond','BsmtQual','BsmtCond','BsmtExposure','BsmtFinType1','BsmtFinType2','HeatingQC','KitchenQual','Functional','FireplaceQu','GarageFinish','GarageQual','GarageCond','PoolQC','Fence']\n",
        "# define ordinal encoding\n",
        "encoder = OrdinalEncoder()\n",
        "# transform data\n",
        "train_X[ordinal_encode_list] = encoder.fit_transform(train_X[ordinal_encode_list])\n",
        "#print(train_X[ordinal_encode_list])"
      ],
      "metadata": {
        "id": "gq3q-bHxA8L5"
      },
      "execution_count": null,
      "outputs": []
    },
    {
      "cell_type": "code",
      "source": [
        "train_X = pd.get_dummies(train_X)\n",
        "print(train_X.shape)\n",
        "#print(train_X)"
      ],
      "metadata": {
        "id": "Qzw0XYUvSjmu",
        "colab": {
          "base_uri": "https://localhost:8080/"
        },
        "outputId": "db38e0c0-362a-4f53-abec-d4b9bee32baf"
      },
      "execution_count": null,
      "outputs": [
        {
          "output_type": "stream",
          "name": "stdout",
          "text": [
            "(1460, 228)\n"
          ]
        }
      ]
    },
    {
      "cell_type": "code",
      "source": [
        "# Distribution of Y\n",
        "import scipy.stats as st\n",
        "import seaborn as sns\n",
        "y = train_y\n",
        "plt.title('Log Normal')\n",
        "sns.distplot(y, kde=False, fit=st.lognorm)"
      ],
      "metadata": {
        "colab": {
          "base_uri": "https://localhost:8080/",
          "height": 369
        },
        "id": "lrM1c_dbkrGo",
        "outputId": "94397771-04c8-439f-95c0-6446d231d03e"
      },
      "execution_count": null,
      "outputs": [
        {
          "output_type": "stream",
          "name": "stderr",
          "text": [
            "/usr/local/lib/python3.8/dist-packages/seaborn/distributions.py:2619: FutureWarning: `distplot` is a deprecated function and will be removed in a future version. Please adapt your code to use either `displot` (a figure-level function with similar flexibility) or `histplot` (an axes-level function for histograms).\n",
            "  warnings.warn(msg, FutureWarning)\n"
          ]
        },
        {
          "output_type": "execute_result",
          "data": {
            "text/plain": [
              "<matplotlib.axes._subplots.AxesSubplot at 0x7f66178c7a00>"
            ]
          },
          "metadata": {},
          "execution_count": 30
        },
        {
          "output_type": "display_data",
          "data": {
            "text/plain": [
              "<Figure size 432x288 with 1 Axes>"
            ],
            "image/png": "[encoded data removed]"
          },
          "metadata": {
            "needs_background": "light"
          }
        }
      ]
    },
    {
      "cell_type": "code",
      "source": [
        "# Scale data\n",
        "scaling=StandardScaler()\n",
        " \n",
        "# Use fit and transform method\n",
        "scaling.fit(train_X)\n",
        "Scaled_data=scaling.transform(train_X)\n"
      ],
      "metadata": {
        "id": "-rSgmOe9eUn2"
      },
      "execution_count": null,
      "outputs": []
    },
    {
      "cell_type": "code",
      "source": [
        "X_trains, X_vals, y_trains, y_vals = train_test_split(Scaled_data, train_y, test_size=0.3, random_state=42)\n",
        "X_train, X_val, y_train, y_val = train_test_split(train_X, train_y, test_size=0.3, random_state=42)"
      ],
      "metadata": {
        "id": "3S-ks1W56eBW"
      },
      "execution_count": null,
      "outputs": []
    },
    {
      "cell_type": "code",
      "source": [
        "# Linear Regression Model\n",
        "from sklearn import linear_model\n",
        "from sklearn.metrics import mean_squared_error\n",
        "# Least Squares model\n",
        "lin_reg = linear_model.LinearRegression()\n",
        "lin_reg.fit(X_train, y_train)\n",
        "print(\"Linear Regression train: \", lin_reg.score(X_train, y_train))\n",
        "print(\"Linear Regression val: \", lin_reg.score(X_val, y_val))\n",
        "y_pred = lin_reg.predict(X_val)\n",
        "mse = mean_squared_error(y_val, y_pred)\n",
        "rmse = np.sqrt(mse)\n",
        "print('RMSE: {}'.format(rmse))\n"
      ],
      "metadata": {
        "id": "ti_g9pAja3bY",
        "colab": {
          "base_uri": "https://localhost:8080/"
        },
        "outputId": "62525b67-663a-470c-a5c4-af36a896f964"
      },
      "execution_count": null,
      "outputs": [
        {
          "output_type": "stream",
          "name": "stdout",
          "text": [
            "Linear Regression train:  0.9235651856525311\n",
            "Linear Regression val:  0.8774122066365242\n",
            "RMSE: 29247.71984338244\n"
          ]
        }
      ]
    },
    {
      "cell_type": "code",
      "source": [
        "# Linear Ridge Regression\n",
        "\n",
        "alpha_list = [0.001,0.01,0.1,0.5, 1, 5, 10, 50 ,100,500]\n",
        "ridge_train = []\n",
        "ridge_val = []\n",
        "log_alpha = np.log10(alpha_list)\n",
        "\n",
        "for a in alpha_list:\n",
        "    lin_ridge = linear_model.Ridge(alpha=a)\n",
        "    lin_ridge.fit(X_train, y_train)\n",
        "    ridge_train.append(lin_ridge.score(X_train, y_train))\n",
        "    ridge_val.append(lin_ridge.score(X_val, y_val))\n",
        "\n",
        "plot_data(ridge_train, ridge_val, log_alpha, 'log_10 alpha')\n",
        "plt.title('Ridge Regression vs log_10(alpha)')\n",
        "plt.show()"
      ],
      "metadata": {
        "id": "PFqExkYQQ-xY",
        "colab": {
          "base_uri": "https://localhost:8080/",
          "height": 333
        },
        "outputId": "7d60cdc8-63f6-447f-f008-094df9f1efef"
      },
      "execution_count": null,
      "outputs": [
        {
          "output_type": "display_data",
          "data": {
            "text/plain": [
              "<Figure size 432x288 with 1 Axes>"
            ],
            "image/png": "[encoded data removed]"
          },
          "metadata": {
            "needs_background": "light"
          }
        },
        {
          "output_type": "stream",
          "name": "stdout",
          "text": [
            "[0.9235650348933867, 0.9235509895007468, 0.9226413031325158, 0.916168889186799, 0.9105075585269816, 0.8943866673553366, 0.8865817711603159, 0.8647459461468519, 0.8539161745319293, 0.8263743753661072]\n",
            "[0.877444824340659, 0.877715804243395, 0.878716077664331, 0.8748638160854814, 0.8712737564915856, 0.8670615683794777, 0.8669350734449263, 0.8657773643957994, 0.8639175771840807, 0.8551850261928691]\n"
          ]
        }
      ]
    },
    {
      "cell_type": "code",
      "source": [
        "ridge_train = [round(item,6) for item in ridge_train]\n",
        "ridge_val = [round(item,6) for item in ridge_val]\n",
        "print(ridge_train)\n",
        "print(ridge_val)"
      ],
      "metadata": {
        "colab": {
          "base_uri": "https://localhost:8080/"
        },
        "id": "6oO8tS1vsUd3",
        "outputId": "0ee40f88-60c0-44e7-9e8f-85004e7f0bde"
      },
      "execution_count": null,
      "outputs": [
        {
          "output_type": "stream",
          "name": "stdout",
          "text": [
            "[0.923565, 0.923551, 0.922641, 0.916169, 0.910508, 0.894387, 0.886582, 0.864746, 0.853916, 0.826374]\n",
            "[0.877445, 0.877716, 0.878716, 0.874864, 0.871274, 0.867062, 0.866935, 0.865777, 0.863918, 0.855185]\n"
          ]
        }
      ]
    },
    {
      "cell_type": "code",
      "source": [
        "# Linear Lasso Regression\n",
        "lasso_train = []\n",
        "lasso_val = []\n",
        "alpha_list = [0.001,0.01,0.1,0.5, 1 ,5, 10, 50 ,100, 500]\n",
        "log_alpha = np.log10(alpha_list)\n",
        "\n",
        "for a in alpha_list:\n",
        "    lin_lasso = linear_model.Lasso(alpha=a,tol = 0.0425)\n",
        "    lin_lasso.fit(X_train, y_train)\n",
        "    lasso_train.append(lin_lasso.score(X_train,y_train))\n",
        "    lasso_val.append(lin_lasso.score(X_val,y_val))\n",
        "\n",
        "plot_data(lasso_train, lasso_val, log_alpha, 'log_10 alpha')\n",
        "plt.title('Lasso Regression Accuracy vs log_10(alpha)')\n",
        "plt.show()\n",
        "lasso_train = [round(item,6) for item in lasso_train]\n",
        "lasso_val = [round(item,6) for item in lasso_val]\n",
        "print(lasso_train)\n",
        "print(lasso_val)"
      ],
      "metadata": {
        "id": "3_avM2szQ_Aa",
        "colab": {
          "base_uri": "https://localhost:8080/",
          "height": 333
        },
        "outputId": "6a134d41-d361-45ff-9029-3efa61a5a2e8"
      },
      "execution_count": null,
      "outputs": [
        {
          "output_type": "display_data",
          "data": {
            "text/plain": [
              "<Figure size 432x288 with 1 Axes>"
            ],
            "image/png": "[encoded data removed]"
          },
          "metadata": {
            "needs_background": "light"
          }
        },
        {
          "output_type": "stream",
          "name": "stdout",
          "text": [
            "[0.915831, 0.915832, 0.915837, 0.915856, 0.916743, 0.919504, 0.921968, 0.91658, 0.908727, 0.848883]\n",
            "[0.875113, 0.875124, 0.875235, 0.875701, 0.877519, 0.88539, 0.890373, 0.89032, 0.88811, 0.862521]\n"
          ]
        }
      ]
    },
    {
      "cell_type": "code",
      "source": [
        "# Polynomial Transformation - x^2\n",
        "steps = [('scalar', StandardScaler()),('poly',PolynomialFeatures(degree=2)),('model', linear_model.LinearRegression())]\n",
        "pipeline = Pipeline(steps)\n",
        "pipeline.fit(X_train,y_train)\n",
        "print(\"Linear Regression train: \",pipeline.score(X_train, y_train))\n",
        "print(\"Linear Regression val: \", pipeline.score(X_val, y_val))"
      ],
      "metadata": {
        "colab": {
          "base_uri": "https://localhost:8080/"
        },
        "id": "XKwPADnyMX2W",
        "outputId": "916f35be-7061-4d6e-c5d4-6e81ed580e29"
      },
      "execution_count": null,
      "outputs": [
        {
          "output_type": "stream",
          "name": "stdout",
          "text": [
            "Linear Regression train:  1.0\n",
            "Linear Regression val:  0.7205945879279951\n"
          ]
        }
      ]
    },
    {
      "cell_type": "code",
      "source": [
        "# Polynomial Transformation with regulation - x^2\n",
        "train = []\n",
        "val = []\n",
        "alpha_list = [1 ,5, 10, 100, 500, 1000, 10000,50000,100000]\n",
        "log_alpha = np.log10(alpha_list)\n",
        "for a in alpha_list:\n",
        "    steps = [('scalar', StandardScaler()),('poly',PolynomialFeatures(degree=2)),('model', linear_model.Ridge(alpha=a))]\n",
        "    pipeline = Pipeline(steps)\n",
        "    pipeline.fit(X_train,y_train)\n",
        "    train.append(pipeline.score(X_train,y_train))\n",
        "    val.append(pipeline.score(X_val,y_val))\n"
      ],
      "metadata": {
        "id": "NRahlTW0BgGG"
      },
      "execution_count": null,
      "outputs": []
    },
    {
      "cell_type": "code",
      "source": [
        "plt.title('X^2 Lasso Regression Accuracy vs log_10(alpha)')\n",
        "plot_data(train, val, log_alpha, 'log_10(alpha)')\n",
        "plt.show()\n",
        "train = [round(item,6) for item in train]\n",
        "val = [round(item,6) for item in val]\n",
        "print(\"Linear Regression train: \",train)\n",
        "print(\"Linear Regression val: \", val)"
      ],
      "metadata": {
        "id": "AV4zydoMM6eU",
        "colab": {
          "base_uri": "https://localhost:8080/",
          "height": 333
        },
        "outputId": "1d266e11-3dce-4ab6-f2d3-2e39a4b15290"
      },
      "execution_count": null,
      "outputs": [
        {
          "output_type": "display_data",
          "data": {
            "text/plain": [
              "<Figure size 432x288 with 1 Axes>"
            ],
            "image/png": "[encoded data removed]"
          },
          "metadata": {
            "needs_background": "light"
          }
        },
        {
          "output_type": "stream",
          "name": "stdout",
          "text": [
            "Linear Regression train:  [1.0, 0.999996, 0.999989, 0.999626, 0.997159, 0.99417, 0.955024, 0.850338, 0.760614]\n",
            "Linear Regression val:  [0.72228, 0.72478, 0.726963, 0.738958, 0.755415, 0.764145, 0.782706, 0.723882, 0.651456]\n"
          ]
        }
      ]
    },
    {
      "cell_type": "code",
      "source": [
        "#Neural Network Model with L2 Regularization\n",
        "from sklearn.neural_network import MLPRegressor\n",
        "NN_train = []\n",
        "NN_val = []\n",
        "alpha_list = [1,10,100,10000,1000000,10000000,100000000,1000000000]\n",
        "log_alpha = np.log10(alpha_list)\n",
        "for a in alpha_list:\n",
        "  NN = MLPRegressor((200), activation='relu',alpha=a, learning_rate_init = 0.001,max_iter=5000,random_state=1,\n",
        "                  momentum=.9)\n",
        "  NN.fit(X_trains, y_train)\n",
        "  NN_train.append(NN.score(X_trains, y_train))\n",
        "  NN_val.append(NN.score(X_vals, y_val))\n"
      ],
      "metadata": {
        "id": "s4NrJxN1a5zE"
      },
      "execution_count": null,
      "outputs": []
    },
    {
      "cell_type": "code",
      "source": [
        "plt.title('Neural Network relu (200) Accuracy vs log_10(alpha)')\n",
        "plt.plot(log_alpha, NN_train, label ='Training')\n",
        "plt.plot(log_alpha, NN_val, label ='Validation')\n",
        "plt.xlabel(\"log_10 alpha\")\n",
        "plt.ylabel(\"Score\")\n",
        "plt.legend()\n",
        "plt.show()\n",
        "NN_train = [round(item,6) for item in NN_train]\n",
        "NN_val = [round(item,6) for item in NN_val]\n",
        "print(\"NN train: \",NN_train)\n",
        "print(\"NN val: \", NN_val)"
      ],
      "metadata": {
        "colab": {
          "base_uri": "https://localhost:8080/",
          "height": 331
        },
        "id": "0B2iLfWk09gj",
        "outputId": "a9137fdc-2b9b-4829-b794-6c677f3cc644"
      },
      "execution_count": null,
      "outputs": [
        {
          "output_type": "display_data",
          "data": {
            "text/plain": [
              "<Figure size 432x288 with 1 Axes>"
            ],
            "image/png": "[encoded data removed]"
          },
          "metadata": {
            "needs_background": "light"
          }
        },
        {
          "output_type": "stream",
          "name": "stdout",
          "text": [
            "NN train:  [0.930685, 0.933757, 0.933134, 0.930365, 0.900219, -0.008665, -4.281182, -5.340695]\n",
            "NN val:  [0.69965, 0.696505, 0.698348, 0.778703, 0.845374, 0.031893, -3.634808, -4.539521]\n"
          ]
        }
      ]
    },
    {
      "cell_type": "code",
      "source": [
        "#Binary Classification with price threshold using SVM\n",
        "from sklearn.svm import SVC\n",
        "threshold = 200000 # cost of the house\n",
        "y_bin = []\n",
        "for i in train_y:  \n",
        "   if i >= threshold:\n",
        "     y_bin.append(1)\n",
        "   else:\n",
        "     y_bin.append(0)\n",
        "y_bin = np.array(y_bin)\n",
        "\n",
        "X_trainc, X_valc, y_trainc, y_valc = train_test_split(Scaled_data, y_bin, test_size=0.3)\n"
      ],
      "metadata": {
        "id": "fAxVdmVteIl4"
      },
      "execution_count": null,
      "outputs": []
    },
    {
      "cell_type": "code",
      "source": [
        "c_list = [.1,.2,.4,.6,.8,1,1.2,1.4,1.6,1.8,2,3,4,5]\n",
        "fig, axs = plt.subplots(2,2)\n",
        "fig.suptitle('SVM classification Score vs C')\n",
        "plotnum = 0\n",
        "svm_train=[]\n",
        "svm_val=[]\n",
        "kernels = ['linear','poly','rbf','sigmoid']\n",
        "\n",
        "for k in kernels:\n",
        "  svm_train.append([])\n",
        "  svm_val.append([])\n",
        "  for c in c_list:\n",
        "      svm= SVC(C=c,kernel=k)\n",
        "      svm.fit(X_trainc,y_trainc)\n",
        "      svm_train[-1].append(svm.score(X_trainc, y_trainc))\n",
        "      svm_val[-1].append(svm.score(X_valc,y_valc))\n",
        "\n",
        "  plot_data(svm_train[plotnum], svm_val[plotnum], c_list, 'C', axs[plotnum//2, plotnum%2])\n",
        "  plotnum += 1\n",
        "plt.xlim([c_list[0], c_list[-1]])\n",
        "plt.setp(axs[-1, :], xlabel='C')\n",
        "plt.setp(axs[:, 0], ylabel='Accuracy')\n",
        "\n",
        "\n",
        "\n",
        "print('SVM training accuracies')\n",
        "for i in range(len(svm_train)):\n",
        "  svm_train[i] = [round(item,6) for item in svm_train[i]]\n",
        "  print('Kernel function used:', kernels[i], '\\nAccuracys: ', svm_train[i])\n",
        "\n",
        "print('\\nSVM validation accuracies')\n",
        "for i in range(len(svm_val)):\n",
        "  svm_val[i] = [round(item,6) for item in svm_val[i]]\n",
        "  print('Kernel function used:', kernels[i], '\\nAccuracys: ', svm_val[i])"
      ],
      "metadata": {
        "id": "V1GjaxNacKIT",
        "outputId": "f453f2b9-ef52-4cb7-d777-c4738a02916b",
        "colab": {
          "base_uri": "https://localhost:8080/",
          "height": 638
        }
      },
      "execution_count": null,
      "outputs": [
        {
          "output_type": "stream",
          "name": "stdout",
          "text": [
            "SVM training accuracies\n",
            "Kernel function used: linear \n",
            "Accuracys:  [0.982387, 0.984344, 0.985323, 0.984344, 0.985323, 0.988258, 0.98728, 0.988258, 0.988258, 0.989237, 0.989237, 0.991194, 0.991194, 0.992172]\n",
            "Kernel function used: poly \n",
            "Accuracys:  [0.726027, 0.755382, 0.790607, 0.815068, 0.833659, 0.855186, 0.863014, 0.882583, 0.895303, 0.899217, 0.906067, 0.921722, 0.938356, 0.947162]\n",
            "Kernel function used: rbf \n",
            "Accuracys:  [0.879648, 0.895303, 0.918787, 0.944227, 0.966732, 0.975538, 0.982387, 0.983366, 0.984344, 0.984344, 0.985323, 0.988258, 0.989237, 0.989237]\n",
            "Kernel function used: sigmoid \n",
            "Accuracys:  [0.903131, 0.919765, 0.922701, 0.928571, 0.931507, 0.932485, 0.934442, 0.932485, 0.931507, 0.92955, 0.933464, 0.936399, 0.934442, 0.931507]\n",
            "\n",
            "SVM validation accuracies\n",
            "Kernel function used: linear \n",
            "Accuracys:  [0.917808, 0.917808, 0.915525, 0.922374, 0.924658, 0.924658, 0.924658, 0.917808, 0.915525, 0.913242, 0.915525, 0.906393, 0.908676, 0.90411]\n",
            "Kernel function used: poly \n",
            "Accuracys:  [0.705479, 0.719178, 0.737443, 0.753425, 0.769406, 0.80137, 0.808219, 0.808219, 0.815068, 0.821918, 0.826484, 0.835616, 0.840183, 0.856164]\n",
            "Kernel function used: rbf \n",
            "Accuracys:  [0.853881, 0.858447, 0.86758, 0.874429, 0.883562, 0.894977, 0.90411, 0.908676, 0.908676, 0.908676, 0.913242, 0.913242, 0.908676, 0.908676]\n",
            "Kernel function used: sigmoid \n",
            "Accuracys:  [0.901826, 0.906393, 0.906393, 0.910959, 0.920091, 0.922374, 0.920091, 0.913242, 0.917808, 0.920091, 0.924658, 0.924658, 0.917808, 0.910959]\n"
          ]
        },
        {
          "output_type": "display_data",
          "data": {
            "text/plain": [
              "<Figure size 432x288 with 4 Axes>"
            ],
            "image/png": "[encoded data removed]"
          },
          "metadata": {
            "needs_background": "light"
          }
        }
      ]
    },
    {
      "cell_type": "code",
      "source": [],
      "metadata": {
        "id": "c2Zt_g-76fgm"
      },
      "execution_count": null,
      "outputs": []
    }
  ]
}